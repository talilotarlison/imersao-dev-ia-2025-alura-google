{
  "nbformat": 4,
  "nbformat_minor": 0,
  "metadata": {
    "colab": {
      "provenance": [],
      "include_colab_link": true
    },
    "kernelspec": {
      "name": "python3",
      "display_name": "Python 3"
    },
    "language_info": {
      "name": "python"
    }
  },
  "cells": [
    {
      "cell_type": "markdown",
      "metadata": {
        "id": "view-in-github",
        "colab_type": "text"
      },
      "source": [
        "<a href=\"https://colab.research.google.com/github/talilotarlison/imersao-dev-ia-2025-alura-google/blob/main/Masterclass_Python_Alura.ipynb\" target=\"_parent\"><img src=\"https://colab.research.google.com/assets/colab-badge.svg\" alt=\"Open In Colab\"/></a>"
      ]
    },
    {
      "cell_type": "code",
      "execution_count": null,
      "metadata": {
        "colab": {
          "base_uri": "https://localhost:8080/",
          "height": 35
        },
        "id": "ZDOEq5ARR-5F",
        "outputId": "3c5f1a1c-acb3-488b-f241-fcacdb4a7464"
      },
      "outputs": [
        {
          "output_type": "execute_result",
          "data": {
            "text/plain": [
              "'guilherme'"
            ],
            "application/vnd.google.colaboratory.intrinsic+json": {
              "type": "string"
            }
          },
          "metadata": {},
          "execution_count": 2
        }
      ],
      "source": [
        "\"guilherme\""
      ]
    },
    {
      "cell_type": "code",
      "source": [
        "'guilherme'"
      ],
      "metadata": {
        "colab": {
          "base_uri": "https://localhost:8080/",
          "height": 35
        },
        "id": "a20LZPH_S_Id",
        "outputId": "90277186-232b-4316-fb05-29ed918aed5a"
      },
      "execution_count": null,
      "outputs": [
        {
          "output_type": "execute_result",
          "data": {
            "text/plain": [
              "'guilherme'"
            ],
            "application/vnd.google.colaboratory.intrinsic+json": {
              "type": "string"
            }
          },
          "metadata": {},
          "execution_count": 3
        }
      ]
    },
    {
      "cell_type": "code",
      "source": [
        "saudacao = 'Olá, Mundo!'"
      ],
      "metadata": {
        "id": "hI1Z97myTJED"
      },
      "execution_count": null,
      "outputs": []
    },
    {
      "cell_type": "code",
      "source": [
        "saudacao"
      ],
      "metadata": {
        "colab": {
          "base_uri": "https://localhost:8080/",
          "height": 35
        },
        "id": "99b2nz-fTeJD",
        "outputId": "b9c43659-516f-4c79-f4b9-13d7c5bfe129"
      },
      "execution_count": null,
      "outputs": [
        {
          "output_type": "execute_result",
          "data": {
            "text/plain": [
              "'Olá, Mundo!'"
            ],
            "application/vnd.google.colaboratory.intrinsic+json": {
              "type": "string"
            }
          },
          "metadata": {},
          "execution_count": 5
        }
      ]
    },
    {
      "cell_type": "code",
      "source": [
        "resposta = 'Não sei.'\n",
        "resposta"
      ],
      "metadata": {
        "colab": {
          "base_uri": "https://localhost:8080/",
          "height": 35
        },
        "id": "oj6ujTf_TgPd",
        "outputId": "8152667e-3b5b-4118-b9a5-f42cfbef9155"
      },
      "execution_count": null,
      "outputs": [
        {
          "output_type": "execute_result",
          "data": {
            "text/plain": [
              "'Não sei.'"
            ],
            "application/vnd.google.colaboratory.intrinsic+json": {
              "type": "string"
            }
          },
          "metadata": {},
          "execution_count": 6
        }
      ]
    },
    {
      "cell_type": "code",
      "source": [
        "idade = 34\n",
        "idade"
      ],
      "metadata": {
        "colab": {
          "base_uri": "https://localhost:8080/"
        },
        "id": "SA7r7NTdT4GL",
        "outputId": "2cea808e-c48c-49dc-8cec-4bcb793e9b46"
      },
      "execution_count": null,
      "outputs": [
        {
          "output_type": "execute_result",
          "data": {
            "text/plain": [
              "34"
            ]
          },
          "metadata": {},
          "execution_count": 11
        }
      ]
    },
    {
      "cell_type": "code",
      "source": [
        "gasolina = 6.55\n",
        "gasolina"
      ],
      "metadata": {
        "colab": {
          "base_uri": "https://localhost:8080/"
        },
        "id": "opJxrleKUSRO",
        "outputId": "b715bbfc-4669-41e3-da51-5195afa23c9d"
      },
      "execution_count": null,
      "outputs": [
        {
          "output_type": "execute_result",
          "data": {
            "text/plain": [
              "6.55"
            ]
          },
          "metadata": {},
          "execution_count": 12
        }
      ]
    },
    {
      "cell_type": "code",
      "source": [
        "altura = 1.75\n",
        "altura"
      ],
      "metadata": {
        "colab": {
          "base_uri": "https://localhost:8080/"
        },
        "id": "GOnUmkjpUg0Z",
        "outputId": "22fd8e96-7676-4d47-df63-f5c56edd72af"
      },
      "execution_count": null,
      "outputs": [
        {
          "output_type": "execute_result",
          "data": {
            "text/plain": [
              "1.75"
            ]
          },
          "metadata": {},
          "execution_count": 13
        }
      ]
    },
    {
      "cell_type": "code",
      "source": [
        "# verdadeiro\n",
        "pode_dirigir = True\n",
        "pode_dirigir"
      ],
      "metadata": {
        "colab": {
          "base_uri": "https://localhost:8080/"
        },
        "id": "aA8OnIpvUjbe",
        "outputId": "c6df17e3-d5ea-43b5-ffc9-0841f4d62c05"
      },
      "execution_count": null,
      "outputs": [
        {
          "output_type": "execute_result",
          "data": {
            "text/plain": [
              "True"
            ]
          },
          "metadata": {},
          "execution_count": 14
        }
      ]
    },
    {
      "cell_type": "code",
      "source": [
        "# falso\n",
        "nao_pode_dirigir = False\n",
        "nao_pode_dirigir"
      ],
      "metadata": {
        "colab": {
          "base_uri": "https://localhost:8080/"
        },
        "id": "F37Fbrm6Uv37",
        "outputId": "42be3278-a67f-41fa-d778-3f096a60e204"
      },
      "execution_count": null,
      "outputs": [
        {
          "output_type": "execute_result",
          "data": {
            "text/plain": [
              "False"
            ]
          },
          "metadata": {},
          "execution_count": 15
        }
      ]
    },
    {
      "cell_type": "code",
      "source": [
        "# lista\n",
        "citacoes = ['frase 1', 'frase 2', 'frase 3']\n",
        "citacoes"
      ],
      "metadata": {
        "colab": {
          "base_uri": "https://localhost:8080/"
        },
        "id": "t5aEIODMU1KY",
        "outputId": "13f723c1-c2c6-401e-c340-13a72ee7ef07"
      },
      "execution_count": null,
      "outputs": [
        {
          "output_type": "execute_result",
          "data": {
            "text/plain": [
              "['frase 1', 'frase 2', 'frase 3']"
            ]
          },
          "metadata": {},
          "execution_count": 16
        }
      ]
    },
    {
      "cell_type": "code",
      "source": [
        "#          0.  1.   2.\n",
        "valores = [42, 100, 1592]\n",
        "valores"
      ],
      "metadata": {
        "colab": {
          "base_uri": "https://localhost:8080/"
        },
        "id": "98HEsRFrVT1D",
        "outputId": "2458b9a4-7744-4fa1-9e2f-b1bbff4ebc7d"
      },
      "execution_count": null,
      "outputs": [
        {
          "output_type": "execute_result",
          "data": {
            "text/plain": [
              "[42, 100, 1592]"
            ]
          },
          "metadata": {},
          "execution_count": 17
        }
      ]
    },
    {
      "cell_type": "code",
      "source": [
        "valores[0]"
      ],
      "metadata": {
        "colab": {
          "base_uri": "https://localhost:8080/"
        },
        "id": "yqnJn4mvVawu",
        "outputId": "2981097a-34b5-46fb-d192-e6502ccbef98"
      },
      "execution_count": null,
      "outputs": [
        {
          "output_type": "execute_result",
          "data": {
            "text/plain": [
              "42"
            ]
          },
          "metadata": {},
          "execution_count": 19
        }
      ]
    },
    {
      "cell_type": "code",
      "source": [
        "resultado_da_soma = valores[0] + valores[1]\n",
        "resultado_da_soma"
      ],
      "metadata": {
        "colab": {
          "base_uri": "https://localhost:8080/"
        },
        "id": "UDLEn92oVeh7",
        "outputId": "cf4a75c3-0528-4aa9-f470-0d3fc583126c"
      },
      "execution_count": null,
      "outputs": [
        {
          "output_type": "execute_result",
          "data": {
            "text/plain": [
              "142"
            ]
          },
          "metadata": {},
          "execution_count": 20
        }
      ]
    },
    {
      "cell_type": "code",
      "source": [
        "bandas_favoritas = {\n",
        "    'banda_favorita': 'Oasis',\n",
        "    'banda_legalzinha': 'Guilherme Band'\n",
        "}\n",
        "bandas_favoritas"
      ],
      "metadata": {
        "colab": {
          "base_uri": "https://localhost:8080/"
        },
        "id": "OGBgLQFQVvv5",
        "outputId": "5e52f4ba-5ff0-4fc9-fd74-3d100aba4e6f"
      },
      "execution_count": null,
      "outputs": [
        {
          "output_type": "execute_result",
          "data": {
            "text/plain": [
              "{'banda_favorita': 'Oasis', 'banda_legalzinha': 'Guilherme Band'}"
            ]
          },
          "metadata": {},
          "execution_count": 21
        }
      ]
    },
    {
      "cell_type": "code",
      "source": [
        "bandas_favoritas['banda_legalzinha']"
      ],
      "metadata": {
        "colab": {
          "base_uri": "https://localhost:8080/",
          "height": 35
        },
        "id": "zAjzQ-YhWdcE",
        "outputId": "f728d3c2-6946-4799-c277-04d866cc2cf2"
      },
      "execution_count": null,
      "outputs": [
        {
          "output_type": "execute_result",
          "data": {
            "text/plain": [
              "'Guilherme Band'"
            ],
            "application/vnd.google.colaboratory.intrinsic+json": {
              "type": "string"
            }
          },
          "metadata": {},
          "execution_count": 24
        }
      ]
    },
    {
      "cell_type": "code",
      "source": [
        "texto_sujo = \"   Bem vindo a imersão                \"\n",
        "texto_limpo = texto_sujo.strip()\n",
        "texto_limpo"
      ],
      "metadata": {
        "colab": {
          "base_uri": "https://localhost:8080/",
          "height": 35
        },
        "id": "YRRBs36_WhtN",
        "outputId": "11a32f07-b0e2-4ae8-cd2b-1d5dda616f8e"
      },
      "execution_count": null,
      "outputs": [
        {
          "output_type": "execute_result",
          "data": {
            "text/plain": [
              "'Bem vindo a imersão'"
            ],
            "application/vnd.google.colaboratory.intrinsic+json": {
              "type": "string"
            }
          },
          "metadata": {},
          "execution_count": 26
        }
      ]
    },
    {
      "cell_type": "code",
      "source": [
        "idade = 20\n",
        "\n",
        "if idade >= 18:\n",
        "  print('Pode dirigir')\n",
        "  print('Pode estudar na Fiap')\n",
        "else:\n",
        "  print('Não pode dirigir')\n",
        "  print('Pode estudar na Alura')"
      ],
      "metadata": {
        "colab": {
          "base_uri": "https://localhost:8080/"
        },
        "id": "2TMuyNzHXOK1",
        "outputId": "8a79d4ae-621f-4c55-ed80-4092c3837a9c"
      },
      "execution_count": null,
      "outputs": [
        {
          "output_type": "stream",
          "name": "stdout",
          "text": [
            "Pode dirigir\n",
            "Pode estudar na Fiap\n"
          ]
        }
      ]
    },
    {
      "cell_type": "code",
      "source": [
        "1 == 5"
      ],
      "metadata": {
        "colab": {
          "base_uri": "https://localhost:8080/"
        },
        "id": "pNUOy65sYE7g",
        "outputId": "bfa8f1cf-c6e2-4667-a547-4c0c6df6417d"
      },
      "execution_count": null,
      "outputs": [
        {
          "output_type": "execute_result",
          "data": {
            "text/plain": [
              "False"
            ]
          },
          "metadata": {},
          "execution_count": 39
        }
      ]
    },
    {
      "cell_type": "code",
      "source": [
        "def saudar():\n",
        "  print('Olá, Mundo!')\n",
        "  print('Estou aprendendo Python')\n",
        "\n",
        "print('Estou fora da função!')\n",
        "saudar()"
      ],
      "metadata": {
        "colab": {
          "base_uri": "https://localhost:8080/"
        },
        "id": "nuG9Sqe4YwnV",
        "outputId": "935da585-45a9-4f9d-b567-41093ac588fd"
      },
      "execution_count": null,
      "outputs": [
        {
          "output_type": "stream",
          "name": "stdout",
          "text": [
            "Estou fora da função!\n",
            "Olá, Mundo!\n",
            "Estou aprendendo Python\n"
          ]
        }
      ]
    },
    {
      "cell_type": "code",
      "source": [
        "def saudar():\n",
        "  nome = input('Qual o seu nome? ')\n",
        "  print(f'Olá, {nome}!')\n",
        "\n",
        "saudar()"
      ],
      "metadata": {
        "colab": {
          "base_uri": "https://localhost:8080/"
        },
        "id": "vFXRHxwCZ3lU",
        "outputId": "3a782c33-f56b-42c3-a6ed-81b7123cb013"
      },
      "execution_count": null,
      "outputs": [
        {
          "output_type": "stream",
          "name": "stdout",
          "text": [
            "Qual o seu nome? Ana\n",
            "Olá, Ana!\n"
          ]
        }
      ]
    },
    {
      "cell_type": "code",
      "source": [
        "def saudar(nome):\n",
        "  print(f'Olá, {nome}!')\n",
        "\n",
        "saudar('Guilherme')\n",
        "saudar('Ana')\n",
        "saudar('José')"
      ],
      "metadata": {
        "colab": {
          "base_uri": "https://localhost:8080/"
        },
        "id": "YtrQ3s6fa4s6",
        "outputId": "b8695b51-7f37-4822-85ac-8d22fffe4bff"
      },
      "execution_count": null,
      "outputs": [
        {
          "output_type": "stream",
          "name": "stdout",
          "text": [
            "Olá, Guilherme!\n",
            "Olá, Ana!\n",
            "Olá, José!\n"
          ]
        }
      ]
    },
    {
      "cell_type": "code",
      "source": [
        "def saudar(nome):\n",
        "  return f'Olá, {nome}!'\n",
        "\n",
        "mensagem_1 = saudar('Guilherme')\n",
        "mensagem_2 = saudar('Ana')\n",
        "mensagem_3 = saudar('José')"
      ],
      "metadata": {
        "id": "Gx3yPjkJbNne"
      },
      "execution_count": null,
      "outputs": []
    },
    {
      "cell_type": "code",
      "source": [
        "print(mensagem_1)\n",
        "print(mensagem_2)\n",
        "print(mensagem_3)"
      ],
      "metadata": {
        "colab": {
          "base_uri": "https://localhost:8080/"
        },
        "id": "V9YVS0ocbXhq",
        "outputId": "16efbbe1-f9b1-489d-dd3b-e7d6cb789209"
      },
      "execution_count": null,
      "outputs": [
        {
          "output_type": "stream",
          "name": "stdout",
          "text": [
            "Olá, Guilherme!\n",
            "Olá, Ana!\n",
            "Olá, José!\n"
          ]
        }
      ]
    },
    {
      "cell_type": "code",
      "source": [
        "def saudar(nome: str) -> str:\n",
        "  # retorna a mensagem Olá seguido do nome que recebemos como argumento\n",
        "  return f'Olá, {nome}!'\n",
        "\n",
        "mensagem_1 = saudar('Guilherme')\n",
        "mensagem_2 = saudar('Ana')\n",
        "\n",
        "print(mensagem_1)\n",
        "print(mensagem_2)"
      ],
      "metadata": {
        "colab": {
          "base_uri": "https://localhost:8080/"
        },
        "id": "j_fSznNGb1aL",
        "outputId": "70d6a1c6-826e-4ddf-b7fe-09132117ff5e"
      },
      "execution_count": null,
      "outputs": [
        {
          "output_type": "stream",
          "name": "stdout",
          "text": [
            "Olá, Guilherme!\n",
            "Olá, Ana!\n"
          ]
        }
      ]
    },
    {
      "cell_type": "code",
      "source": [
        "1+2"
      ],
      "metadata": {
        "colab": {
          "base_uri": "https://localhost:8080/"
        },
        "id": "D4tKb78sdc47",
        "outputId": "cb1684ef-5145-4a23-be5c-05abd6027482"
      },
      "execution_count": null,
      "outputs": [
        {
          "output_type": "execute_result",
          "data": {
            "text/plain": [
              "3"
            ]
          },
          "metadata": {},
          "execution_count": 62
        }
      ]
    },
    {
      "cell_type": "code",
      "source": [
        "50/4"
      ],
      "metadata": {
        "colab": {
          "base_uri": "https://localhost:8080/"
        },
        "id": "OM9VA_YfeNRQ",
        "outputId": "381284ba-db86-416a-d1f4-40fed663ea55"
      },
      "execution_count": null,
      "outputs": [
        {
          "output_type": "execute_result",
          "data": {
            "text/plain": [
              "12.5"
            ]
          },
          "metadata": {},
          "execution_count": 63
        }
      ]
    },
    {
      "cell_type": "code",
      "source": [
        "5*5"
      ],
      "metadata": {
        "colab": {
          "base_uri": "https://localhost:8080/"
        },
        "id": "aRxWmv9kePRO",
        "outputId": "8bfacf94-efe1-40d6-b6ba-f0bbd066a73e"
      },
      "execution_count": null,
      "outputs": [
        {
          "output_type": "execute_result",
          "data": {
            "text/plain": [
              "25"
            ]
          },
          "metadata": {},
          "execution_count": 65
        }
      ]
    },
    {
      "cell_type": "code",
      "source": [
        "from math import sqrt\n",
        "\n",
        "sqrt(16)"
      ],
      "metadata": {
        "colab": {
          "base_uri": "https://localhost:8080/"
        },
        "id": "9_ZLswpleRP_",
        "outputId": "8bd68394-c1e7-4fc3-c90e-1afaf1c758c6"
      },
      "execution_count": null,
      "outputs": [
        {
          "output_type": "execute_result",
          "data": {
            "text/plain": [
              "4.0"
            ]
          },
          "metadata": {},
          "execution_count": 66
        }
      ]
    },
    {
      "cell_type": "code",
      "source": [],
      "metadata": {
        "id": "wFMM6NI9eiaw"
      },
      "execution_count": null,
      "outputs": []
    }
  ]
}